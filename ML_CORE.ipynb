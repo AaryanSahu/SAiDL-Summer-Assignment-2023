{
  "nbformat": 4,
  "nbformat_minor": 0,
  "metadata": {
    "colab": {
      "provenance": [],
      "authorship_tag": "ABX9TyNGtxjGaTNO2pRwfmjeZLRk",
      "include_colab_link": true
    },
    "kernelspec": {
      "name": "python3",
      "display_name": "Python 3"
    },
    "language_info": {
      "name": "python"
    },
    "accelerator": "GPU",
    "gpuClass": "standard"
  },
  "cells": [
    {
      "cell_type": "markdown",
      "metadata": {
        "id": "view-in-github",
        "colab_type": "text"
      },
      "source": [
        "<a href=\"https://colab.research.google.com/github/AaryanSahu/SAiDL-Summer-Assignment-2023/blob/main/ML_CORE.ipynb\" target=\"_parent\"><img src=\"https://colab.research.google.com/assets/colab-badge.svg\" alt=\"Open In Colab\"/></a>"
      ]
    },
    {
      "cell_type": "code",
      "execution_count": null,
      "metadata": {
        "id": "aGQvj7SKbzyI"
      },
      "outputs": [],
      "source": [
        "import torch\n",
        "import torch.nn as nn\n",
        "import torch.optim as optim\n",
        "import torchvision\n",
        "import torchvision.models as models\n",
        "import torchvision.transforms as transforms\n",
        "\n",
        "# Define device\n",
        "device = torch.device(\"cuda\" if torch.cuda.is_available() else \"cpu\")\n"
      ]
    },
    {
      "cell_type": "code",
      "source": [
        "transform_train = transforms.Compose([\n",
        "    transforms.RandomCrop(32, padding=4),\n",
        "    transforms.RandomHorizontalFlip(),\n",
        "    transforms.ToTensor(),\n",
        "    transforms.Normalize(mean=[0.485, 0.456, 0.406], std=[0.229, 0.224, 0.225])\n",
        "])\n",
        "\n",
        "transform_test = transforms.Compose([\n",
        "    transforms.ToTensor(),\n",
        "    transforms.Normalize(mean=[0.485, 0.456, 0.406], std=[0.229, 0.224, 0.225])\n",
        "])\n"
      ],
      "metadata": {
        "id": "hPkvbMH4cMq6"
      },
      "execution_count": null,
      "outputs": []
    },
    {
      "cell_type": "code",
      "source": [
        "# Load CIFAR 100 dataset\n",
        "trainset = torchvision.datasets.CIFAR100(root='./data', train=True,\n",
        "                                        download=True, transform=transform_train)\n",
        "trainloader = torch.utils.data.DataLoader(trainset, batch_size=128,\n",
        "                                          shuffle=True, num_workers=2)\n",
        "\n",
        "testset = torchvision.datasets.CIFAR100(root='./data', train=False,\n",
        "                                       download=True, transform=transform_test)\n",
        "testloader = torch.utils.data.DataLoader(testset, batch_size=100,\n",
        "                                         shuffle=False, num_workers=2)"
      ],
      "metadata": {
        "colab": {
          "base_uri": "https://localhost:8080/"
        },
        "id": "Ic2fdU6icOXO",
        "outputId": "7f51b0c2-2d3c-4ec8-aaf4-ac1f5f2fbc09"
      },
      "execution_count": null,
      "outputs": [
        {
          "output_type": "stream",
          "name": "stdout",
          "text": [
            "Downloading https://www.cs.toronto.edu/~kriz/cifar-100-python.tar.gz to ./data/cifar-100-python.tar.gz\n"
          ]
        },
        {
          "output_type": "stream",
          "name": "stderr",
          "text": [
            "100%|██████████| 169001437/169001437 [00:12<00:00, 13014078.38it/s]\n"
          ]
        },
        {
          "output_type": "stream",
          "name": "stdout",
          "text": [
            "Extracting ./data/cifar-100-python.tar.gz to ./data\n",
            "Files already downloaded and verified\n"
          ]
        }
      ]
    },
    {
      "cell_type": "code",
      "source": [
        "# # Define CNN model\n",
        "# class CNN(nn.Module):\n",
        "#     def __init__(self):\n",
        "#         super(CNN, self).__init__()\n",
        "#         self.conv1 = nn.Conv2d(3, 64, kernel_size=3, padding=1)\n",
        "#         self.conv2 = nn.Conv2d(64, 64, kernel_size=3, padding=1)\n",
        "#         self.pool = nn.MaxPool2d(2, 2)\n",
        "#         self.fc1 = nn.Linear(64 * 8 * 8, 512)\n",
        "#         self.fc2 = nn.Linear(512, 100)\n",
        "\n",
        "#     def forward(self, x):\n",
        "#         x = self.pool(nn.functional.relu(self.conv1(x)))\n",
        "#         x = self.pool(nn.functional.relu(self.conv2(x)))\n",
        "#         x = x.view(-1, 64 * 8 * 8)\n",
        "#         x = nn.functional.relu(self.fc1(x))\n",
        "#         x = self.fc2(x)\n",
        "#         return x\n",
        "\n",
        "# # Initialize CNN model\n",
        "# net = CNN().to(device)"
      ],
      "metadata": {
        "id": "WLLbBGJlcngt"
      },
      "execution_count": null,
      "outputs": []
    },
    {
      "cell_type": "code",
      "source": [
        "# Pretrain ResNet model on ImageNet dataset\n",
        "pretrained_resnet = torchvision.models.resnet18(pretrained=True)\n",
        "pretrained_resnet.fc = torch.nn.Linear(512, 100) # replace last layer with new output layer\n",
        "pretrained_resnet = pretrained_resnet.to(device)"
      ],
      "metadata": {
        "colab": {
          "base_uri": "https://localhost:8080/"
        },
        "id": "dCbv0_Fdtnr5",
        "outputId": "1744cecc-39ca-459c-9b68-abf7258368b5"
      },
      "execution_count": null,
      "outputs": [
        {
          "output_type": "stream",
          "name": "stderr",
          "text": [
            "/usr/local/lib/python3.9/dist-packages/torchvision/models/_utils.py:208: UserWarning: The parameter 'pretrained' is deprecated since 0.13 and may be removed in the future, please use 'weights' instead.\n",
            "  warnings.warn(\n",
            "/usr/local/lib/python3.9/dist-packages/torchvision/models/_utils.py:223: UserWarning: Arguments other than a weight enum or `None` for 'weights' are deprecated since 0.13 and may be removed in the future. The current behavior is equivalent to passing `weights=ResNet18_Weights.IMAGENET1K_V1`. You can also use `weights=ResNet18_Weights.DEFAULT` to get the most up-to-date weights.\n",
            "  warnings.warn(msg)\n",
            "Downloading: \"https://download.pytorch.org/models/resnet18-f37072fd.pth\" to /root/.cache/torch/hub/checkpoints/resnet18-f37072fd.pth\n",
            "100%|██████████| 44.7M/44.7M [00:00<00:00, 196MB/s]\n"
          ]
        }
      ]
    },
    {
      "cell_type": "code",
      "source": [
        "# # Define loss function and optimizer for pretraining\n",
        "# criterion = torch.nn.CrossEntropyLoss()\n",
        "# optimizer = torch.optim.SGD(pretrained_resnet.parameters(), lr=0.1, momentum=0.9)"
      ],
      "metadata": {
        "id": "MyvhIkBvfBK6"
      },
      "execution_count": null,
      "outputs": []
    },
    {
      "cell_type": "code",
      "source": [
        "criterion = nn.CrossEntropyLoss()\n",
        "optimizer = optim.SGD(pretrained_resnet.parameters(), lr=0.01, momentum=0.7)"
      ],
      "metadata": {
        "id": "ampmT6BGcp2B"
      },
      "execution_count": null,
      "outputs": []
    },
    {
      "cell_type": "code",
      "source": [
        "# Train CNN model\n",
        "for epoch in range(20):\n",
        "    running_loss = 0.0\n",
        "    for i, data in enumerate(trainloader, 0):\n",
        "        inputs, labels = data[0].to(device), data[1].to(device)\n",
        "        optimizer.zero_grad()\n",
        "        outputs = pretrained_resnet(inputs)\n",
        "        loss = criterion(outputs, labels)\n",
        "        loss.backward()\n",
        "        optimizer.step()\n",
        "        running_loss += loss.item()\n",
        "        if i % 50 == 49:\n",
        "            print('[%d, %5d] loss: %.3f' %\n",
        "                  (epoch + 1, i + 1, running_loss / 50))\n",
        "            running_loss = 0.0\n",
        "            \n",
        "print('Finished Training')\n"
      ],
      "metadata": {
        "colab": {
          "base_uri": "https://localhost:8080/"
        },
        "id": "DCF8SzK8crPt",
        "outputId": "93c5b88f-2d44-420e-e1b8-015492ff80a1"
      },
      "execution_count": null,
      "outputs": [
        {
          "output_type": "stream",
          "name": "stdout",
          "text": [
            "[1,    50] loss: 4.128\n",
            "[1,   100] loss: 3.281\n",
            "[1,   150] loss: 2.955\n",
            "[1,   200] loss: 2.672\n",
            "[1,   250] loss: 2.541\n",
            "[1,   300] loss: 2.460\n",
            "[1,   350] loss: 2.423\n",
            "[2,    50] loss: 2.148\n",
            "[2,   100] loss: 2.111\n",
            "[2,   150] loss: 2.090\n",
            "[2,   200] loss: 2.076\n",
            "[2,   250] loss: 2.085\n",
            "[2,   300] loss: 2.032\n",
            "[2,   350] loss: 2.008\n",
            "[3,    50] loss: 1.809\n",
            "[3,   100] loss: 1.855\n",
            "[3,   150] loss: 1.819\n",
            "[3,   200] loss: 1.796\n",
            "[3,   250] loss: 1.821\n",
            "[3,   300] loss: 1.824\n",
            "[3,   350] loss: 1.789\n",
            "[4,    50] loss: 1.622\n",
            "[4,   100] loss: 1.652\n",
            "[4,   150] loss: 1.630\n",
            "[4,   200] loss: 1.656\n",
            "[4,   250] loss: 1.628\n",
            "[4,   300] loss: 1.691\n",
            "[4,   350] loss: 1.621\n",
            "[5,    50] loss: 1.488\n",
            "[5,   100] loss: 1.487\n",
            "[5,   150] loss: 1.519\n",
            "[5,   200] loss: 1.501\n",
            "[5,   250] loss: 1.506\n",
            "[5,   300] loss: 1.566\n",
            "[5,   350] loss: 1.535\n",
            "[6,    50] loss: 1.342\n",
            "[6,   100] loss: 1.361\n",
            "[6,   150] loss: 1.386\n",
            "[6,   200] loss: 1.461\n",
            "[6,   250] loss: 1.401\n",
            "[6,   300] loss: 1.420\n",
            "[6,   350] loss: 1.386\n",
            "[7,    50] loss: 1.252\n",
            "[7,   100] loss: 1.285\n",
            "[7,   150] loss: 1.295\n",
            "[7,   200] loss: 1.294\n",
            "[7,   250] loss: 1.339\n",
            "[7,   300] loss: 1.353\n",
            "[7,   350] loss: 1.359\n",
            "[8,    50] loss: 1.184\n",
            "[8,   100] loss: 1.194\n",
            "[8,   150] loss: 1.193\n",
            "[8,   200] loss: 1.236\n",
            "[8,   250] loss: 1.257\n",
            "[8,   300] loss: 1.246\n",
            "[8,   350] loss: 1.275\n",
            "[9,    50] loss: 1.109\n",
            "[9,   100] loss: 1.118\n",
            "[9,   150] loss: 1.115\n",
            "[9,   200] loss: 1.178\n",
            "[9,   250] loss: 1.212\n",
            "[9,   300] loss: 1.188\n",
            "[9,   350] loss: 1.171\n",
            "[10,    50] loss: 1.022\n",
            "[10,   100] loss: 1.074\n",
            "[10,   150] loss: 1.098\n",
            "[10,   200] loss: 1.060\n",
            "[10,   250] loss: 1.125\n",
            "[10,   300] loss: 1.113\n",
            "[10,   350] loss: 1.140\n",
            "[11,    50] loss: 0.949\n",
            "[11,   100] loss: 0.997\n",
            "[11,   150] loss: 1.011\n",
            "[11,   200] loss: 1.036\n",
            "[11,   250] loss: 1.032\n",
            "[11,   300] loss: 1.051\n",
            "[11,   350] loss: 1.069\n",
            "[12,    50] loss: 0.910\n",
            "[12,   100] loss: 0.920\n",
            "[12,   150] loss: 0.981\n",
            "[12,   200] loss: 0.970\n",
            "[12,   250] loss: 0.973\n",
            "[12,   300] loss: 1.004\n",
            "[12,   350] loss: 1.015\n",
            "[13,    50] loss: 0.874\n",
            "[13,   100] loss: 0.873\n",
            "[13,   150] loss: 0.900\n",
            "[13,   200] loss: 0.868\n",
            "[13,   250] loss: 0.924\n",
            "[13,   300] loss: 0.946\n",
            "[13,   350] loss: 0.923\n",
            "[14,    50] loss: 0.809\n",
            "[14,   100] loss: 0.846\n",
            "[14,   150] loss: 0.850\n",
            "[14,   200] loss: 0.850\n",
            "[14,   250] loss: 0.855\n",
            "[14,   300] loss: 0.905\n",
            "[14,   350] loss: 0.908\n",
            "[15,    50] loss: 0.775\n",
            "[15,   100] loss: 0.795\n",
            "[15,   150] loss: 0.775\n",
            "[15,   200] loss: 0.816\n",
            "[15,   250] loss: 0.865\n",
            "[15,   300] loss: 0.857\n",
            "[15,   350] loss: 0.866\n",
            "[16,    50] loss: 0.710\n",
            "[16,   100] loss: 0.733\n",
            "[16,   150] loss: 0.769\n",
            "[16,   200] loss: 0.752\n",
            "[16,   250] loss: 0.834\n",
            "[16,   300] loss: 0.828\n",
            "[16,   350] loss: 0.801\n",
            "[17,    50] loss: 0.702\n",
            "[17,   100] loss: 0.699\n",
            "[17,   150] loss: 0.702\n",
            "[17,   200] loss: 0.709\n",
            "[17,   250] loss: 0.746\n",
            "[17,   300] loss: 0.767\n",
            "[17,   350] loss: 0.754\n",
            "[18,    50] loss: 0.638\n",
            "[18,   100] loss: 0.648\n",
            "[18,   150] loss: 0.701\n",
            "[18,   200] loss: 0.684\n",
            "[18,   250] loss: 0.711\n",
            "[18,   300] loss: 0.709\n",
            "[18,   350] loss: 0.727\n",
            "[19,    50] loss: 0.602\n",
            "[19,   100] loss: 0.606\n",
            "[19,   150] loss: 0.603\n",
            "[19,   200] loss: 0.625\n",
            "[19,   250] loss: 0.663\n",
            "[19,   300] loss: 0.650\n",
            "[19,   350] loss: 0.678\n",
            "[20,    50] loss: 0.547\n",
            "[20,   100] loss: 0.570\n",
            "[20,   150] loss: 0.592\n",
            "[20,   200] loss: 0.610\n",
            "[20,   250] loss: 0.627\n",
            "[20,   300] loss: 0.648\n",
            "[20,   350] loss: 0.685\n",
            "Finished Training\n"
          ]
        }
      ]
    },
    {
      "cell_type": "code",
      "source": [
        "# Test CNN model\n",
        "correct = 0\n",
        "total = 0\n",
        "with torch.no_grad():\n",
        "    for data in testloader:\n",
        "        images, labels = data[0].to(device), data[1].to(device)\n",
        "        outputs = pretrained_resnet(images)\n",
        "        _, predicted = torch.max(outputs.data, 1)\n",
        "        total += labels.size(0)\n",
        "        correct += (predicted == labels).sum().item()\n",
        "\n",
        "print('Accuracy of the network on the 10000 test images: %d %%' % (\n",
        "    100 * correct / total))"
      ],
      "metadata": {
        "colab": {
          "base_uri": "https://localhost:8080/"
        },
        "id": "4jNXFyercswT",
        "outputId": "f0ca0ea8-f3a6-4581-ddc6-efd06e472918"
      },
      "execution_count": null,
      "outputs": [
        {
          "output_type": "stream",
          "name": "stdout",
          "text": [
            "Accuracy of the network on the 10000 test images: 55 %\n"
          ]
        }
      ]
    },
    {
      "cell_type": "code",
      "source": [
        "# Define the Adaptive Softmax\n",
        "from torch.nn.utils.rnn import pad_sequence\n",
        "class AdaptiveSoftmax(nn.Module):\n",
        "    def __init__(self, in_features, cutoff, div_val=4):\n",
        "        super(AdaptiveSoftmax, self).__init__()\n",
        "        self.cutoff = cutoff\n",
        "        self.head_size = [in_features // div_val, in_features // div_val, in_features]\n",
        "        self.tail_size = [self.cutoff[0], self.cutoff[1] - self.cutoff[0], self.cutoff[2] - self.cutoff[1]]\n",
        "        self.head = nn.Sequential(\n",
        "            nn.Linear(in_features, self.head_size[0]),\n",
        "            nn.Linear(self.head_size[0], self.head_size[1]),\n",
        "            nn.Linear(self.head_size[1], self.head_size[2])\n",
        "        )\n",
        "        self.tail = nn.ModuleList([\n",
        "            nn.Sequential(nn.Linear(in_features, self.tail_size[i])) for i in range(len(self.tail_size))\n",
        "        ])\n",
        "\n",
        "    def forward(self, x, target=None):\n",
        "        if target is None:\n",
        "            head_out = self.head(x)\n",
        "            tail_out = [self.tail[i](x) for i in range(len(self.tail))]\n",
        "            output = [torch.cat((head_out, tail_out[i]), dim=1) for i in range(len(self.tail))]\n",
        "            return output\n",
        "        else:\n",
        "            head_out = x[:, :self.cutoff[0]]\n",
        "            tail_out = [x[:, self.cutoff[i]:self.cutoff[i+1]] for i in range(len(self.cutoff)-1)]\n",
        "            output = [torch.cat((head_out, tail_out[i]), dim=1) for i in range(len(self.tail))]\n",
        "            return output[target]"
      ],
      "metadata": {
        "id": "_hrd-A10mFy0"
      },
      "execution_count": null,
      "outputs": []
    },
    {
      "cell_type": "code",
      "source": [
        "from torchvision.models import resnet18\n",
        "net = resnet18(num_classes=100)\n"
      ],
      "metadata": {
        "id": "377j6eWRCI-J"
      },
      "execution_count": null,
      "outputs": []
    },
    {
      "cell_type": "code",
      "source": [
        "# Define the loss function and the optimizer\n",
        "#max_seq_len = max([len(seq) for seq in trainset])\n",
        "cutoff = [2000, 6000, max_seq_len]\n",
        "in_features = max(cutoff)\n",
        "if net.fc.in_features < in_features:\n",
        "    net.fc = nn.Linear(in_features, net.fc.out_features)\n",
        "adaptive_softmax = AdaptiveSoftmax(in_features, cutoff)\n",
        "criterion = nn.AdaptiveLogSoftmaxWithLoss(adaptive_softmax.head_size[-1], 100, cutoffs=cutoff)\n",
        "optimizer = optim.SGD(net.parameters(), lr=0.1, momentum=0.9, weight_decay=5e-4)\n"
      ],
      "metadata": {
        "colab": {
          "base_uri": "https://localhost:8080/",
          "height": 484
        },
        "id": "BGTIo367B8c-",
        "outputId": "b22cf62d-7573-4fc9-f854-d943fded335e"
      },
      "execution_count": null,
      "outputs": [
        {
          "output_type": "error",
          "ename": "RuntimeError",
          "evalue": "ignored",
          "traceback": [
            "\u001b[0;31m---------------------------------------------------------------------------\u001b[0m",
            "\u001b[0;31mRuntimeError\u001b[0m                              Traceback (most recent call last)",
            "\u001b[0;32m<ipython-input-16-e389b717aec3>\u001b[0m in \u001b[0;36m<cell line: 7>\u001b[0;34m()\u001b[0m\n\u001b[1;32m      5\u001b[0m \u001b[0;32mif\u001b[0m \u001b[0mnet\u001b[0m\u001b[0;34m.\u001b[0m\u001b[0mfc\u001b[0m\u001b[0;34m.\u001b[0m\u001b[0min_features\u001b[0m \u001b[0;34m<\u001b[0m \u001b[0min_features\u001b[0m\u001b[0;34m:\u001b[0m\u001b[0;34m\u001b[0m\u001b[0;34m\u001b[0m\u001b[0m\n\u001b[1;32m      6\u001b[0m     \u001b[0mnet\u001b[0m\u001b[0;34m.\u001b[0m\u001b[0mfc\u001b[0m \u001b[0;34m=\u001b[0m \u001b[0mnn\u001b[0m\u001b[0;34m.\u001b[0m\u001b[0mLinear\u001b[0m\u001b[0;34m(\u001b[0m\u001b[0min_features\u001b[0m\u001b[0;34m,\u001b[0m \u001b[0mnet\u001b[0m\u001b[0;34m.\u001b[0m\u001b[0mfc\u001b[0m\u001b[0;34m.\u001b[0m\u001b[0mout_features\u001b[0m\u001b[0;34m)\u001b[0m\u001b[0;34m\u001b[0m\u001b[0;34m\u001b[0m\u001b[0m\n\u001b[0;32m----> 7\u001b[0;31m \u001b[0madaptive_softmax\u001b[0m \u001b[0;34m=\u001b[0m \u001b[0mAdaptiveSoftmax\u001b[0m\u001b[0;34m(\u001b[0m\u001b[0min_features\u001b[0m\u001b[0;34m,\u001b[0m \u001b[0mcutoff\u001b[0m\u001b[0;34m)\u001b[0m\u001b[0;34m\u001b[0m\u001b[0;34m\u001b[0m\u001b[0m\n\u001b[0m\u001b[1;32m      8\u001b[0m \u001b[0mcriterion\u001b[0m \u001b[0;34m=\u001b[0m \u001b[0mnn\u001b[0m\u001b[0;34m.\u001b[0m\u001b[0mAdaptiveLogSoftmaxWithLoss\u001b[0m\u001b[0;34m(\u001b[0m\u001b[0madaptive_softmax\u001b[0m\u001b[0;34m.\u001b[0m\u001b[0mhead_size\u001b[0m\u001b[0;34m[\u001b[0m\u001b[0;34m-\u001b[0m\u001b[0;36m1\u001b[0m\u001b[0;34m]\u001b[0m\u001b[0;34m,\u001b[0m \u001b[0;36m100\u001b[0m\u001b[0;34m,\u001b[0m \u001b[0mcutoffs\u001b[0m\u001b[0;34m=\u001b[0m\u001b[0mcutoff\u001b[0m\u001b[0;34m)\u001b[0m\u001b[0;34m\u001b[0m\u001b[0;34m\u001b[0m\u001b[0m\n\u001b[1;32m      9\u001b[0m \u001b[0moptimizer\u001b[0m \u001b[0;34m=\u001b[0m \u001b[0moptim\u001b[0m\u001b[0;34m.\u001b[0m\u001b[0mSGD\u001b[0m\u001b[0;34m(\u001b[0m\u001b[0mnet\u001b[0m\u001b[0;34m.\u001b[0m\u001b[0mparameters\u001b[0m\u001b[0;34m(\u001b[0m\u001b[0;34m)\u001b[0m\u001b[0;34m,\u001b[0m \u001b[0mlr\u001b[0m\u001b[0;34m=\u001b[0m\u001b[0;36m0.1\u001b[0m\u001b[0;34m,\u001b[0m \u001b[0mmomentum\u001b[0m\u001b[0;34m=\u001b[0m\u001b[0;36m0.9\u001b[0m\u001b[0;34m,\u001b[0m \u001b[0mweight_decay\u001b[0m\u001b[0;34m=\u001b[0m\u001b[0;36m5e-4\u001b[0m\u001b[0;34m)\u001b[0m\u001b[0;34m\u001b[0m\u001b[0;34m\u001b[0m\u001b[0m\n",
            "\u001b[0;32m<ipython-input-5-20fd084cef18>\u001b[0m in \u001b[0;36m__init__\u001b[0;34m(self, in_features, cutoff, div_val)\u001b[0m\n\u001b[1;32m     12\u001b[0m             \u001b[0mnn\u001b[0m\u001b[0;34m.\u001b[0m\u001b[0mLinear\u001b[0m\u001b[0;34m(\u001b[0m\u001b[0mself\u001b[0m\u001b[0;34m.\u001b[0m\u001b[0mhead_size\u001b[0m\u001b[0;34m[\u001b[0m\u001b[0;36m1\u001b[0m\u001b[0;34m]\u001b[0m\u001b[0;34m,\u001b[0m \u001b[0mself\u001b[0m\u001b[0;34m.\u001b[0m\u001b[0mhead_size\u001b[0m\u001b[0;34m[\u001b[0m\u001b[0;36m2\u001b[0m\u001b[0;34m]\u001b[0m\u001b[0;34m)\u001b[0m\u001b[0;34m\u001b[0m\u001b[0;34m\u001b[0m\u001b[0m\n\u001b[1;32m     13\u001b[0m         )\n\u001b[0;32m---> 14\u001b[0;31m         self.tail = nn.ModuleList([\n\u001b[0m\u001b[1;32m     15\u001b[0m             \u001b[0mnn\u001b[0m\u001b[0;34m.\u001b[0m\u001b[0mSequential\u001b[0m\u001b[0;34m(\u001b[0m\u001b[0mnn\u001b[0m\u001b[0;34m.\u001b[0m\u001b[0mLinear\u001b[0m\u001b[0;34m(\u001b[0m\u001b[0min_features\u001b[0m\u001b[0;34m,\u001b[0m \u001b[0mself\u001b[0m\u001b[0;34m.\u001b[0m\u001b[0mtail_size\u001b[0m\u001b[0;34m[\u001b[0m\u001b[0mi\u001b[0m\u001b[0;34m]\u001b[0m\u001b[0;34m)\u001b[0m\u001b[0;34m)\u001b[0m \u001b[0;32mfor\u001b[0m \u001b[0mi\u001b[0m \u001b[0;32min\u001b[0m \u001b[0mrange\u001b[0m\u001b[0;34m(\u001b[0m\u001b[0mlen\u001b[0m\u001b[0;34m(\u001b[0m\u001b[0mself\u001b[0m\u001b[0;34m.\u001b[0m\u001b[0mtail_size\u001b[0m\u001b[0;34m)\u001b[0m\u001b[0;34m)\u001b[0m\u001b[0;34m\u001b[0m\u001b[0;34m\u001b[0m\u001b[0m\n\u001b[1;32m     16\u001b[0m         ])\n",
            "\u001b[0;32m<ipython-input-5-20fd084cef18>\u001b[0m in \u001b[0;36m<listcomp>\u001b[0;34m(.0)\u001b[0m\n\u001b[1;32m     13\u001b[0m         )\n\u001b[1;32m     14\u001b[0m         self.tail = nn.ModuleList([\n\u001b[0;32m---> 15\u001b[0;31m             \u001b[0mnn\u001b[0m\u001b[0;34m.\u001b[0m\u001b[0mSequential\u001b[0m\u001b[0;34m(\u001b[0m\u001b[0mnn\u001b[0m\u001b[0;34m.\u001b[0m\u001b[0mLinear\u001b[0m\u001b[0;34m(\u001b[0m\u001b[0min_features\u001b[0m\u001b[0;34m,\u001b[0m \u001b[0mself\u001b[0m\u001b[0;34m.\u001b[0m\u001b[0mtail_size\u001b[0m\u001b[0;34m[\u001b[0m\u001b[0mi\u001b[0m\u001b[0;34m]\u001b[0m\u001b[0;34m)\u001b[0m\u001b[0;34m)\u001b[0m \u001b[0;32mfor\u001b[0m \u001b[0mi\u001b[0m \u001b[0;32min\u001b[0m \u001b[0mrange\u001b[0m\u001b[0;34m(\u001b[0m\u001b[0mlen\u001b[0m\u001b[0;34m(\u001b[0m\u001b[0mself\u001b[0m\u001b[0;34m.\u001b[0m\u001b[0mtail_size\u001b[0m\u001b[0;34m)\u001b[0m\u001b[0;34m)\u001b[0m\u001b[0;34m\u001b[0m\u001b[0;34m\u001b[0m\u001b[0m\n\u001b[0m\u001b[1;32m     16\u001b[0m         ])\n\u001b[1;32m     17\u001b[0m \u001b[0;34m\u001b[0m\u001b[0m\n",
            "\u001b[0;32m/usr/local/lib/python3.9/dist-packages/torch/nn/modules/linear.py\u001b[0m in \u001b[0;36m__init__\u001b[0;34m(self, in_features, out_features, bias, device, dtype)\u001b[0m\n\u001b[1;32m     94\u001b[0m         \u001b[0mself\u001b[0m\u001b[0;34m.\u001b[0m\u001b[0min_features\u001b[0m \u001b[0;34m=\u001b[0m \u001b[0min_features\u001b[0m\u001b[0;34m\u001b[0m\u001b[0;34m\u001b[0m\u001b[0m\n\u001b[1;32m     95\u001b[0m         \u001b[0mself\u001b[0m\u001b[0;34m.\u001b[0m\u001b[0mout_features\u001b[0m \u001b[0;34m=\u001b[0m \u001b[0mout_features\u001b[0m\u001b[0;34m\u001b[0m\u001b[0;34m\u001b[0m\u001b[0m\n\u001b[0;32m---> 96\u001b[0;31m         \u001b[0mself\u001b[0m\u001b[0;34m.\u001b[0m\u001b[0mweight\u001b[0m \u001b[0;34m=\u001b[0m \u001b[0mParameter\u001b[0m\u001b[0;34m(\u001b[0m\u001b[0mtorch\u001b[0m\u001b[0;34m.\u001b[0m\u001b[0mempty\u001b[0m\u001b[0;34m(\u001b[0m\u001b[0;34m(\u001b[0m\u001b[0mout_features\u001b[0m\u001b[0;34m,\u001b[0m \u001b[0min_features\u001b[0m\u001b[0;34m)\u001b[0m\u001b[0;34m,\u001b[0m \u001b[0;34m**\u001b[0m\u001b[0mfactory_kwargs\u001b[0m\u001b[0;34m)\u001b[0m\u001b[0;34m)\u001b[0m\u001b[0;34m\u001b[0m\u001b[0;34m\u001b[0m\u001b[0m\n\u001b[0m\u001b[1;32m     97\u001b[0m         \u001b[0;32mif\u001b[0m \u001b[0mbias\u001b[0m\u001b[0;34m:\u001b[0m\u001b[0;34m\u001b[0m\u001b[0;34m\u001b[0m\u001b[0m\n\u001b[1;32m     98\u001b[0m             \u001b[0mself\u001b[0m\u001b[0;34m.\u001b[0m\u001b[0mbias\u001b[0m \u001b[0;34m=\u001b[0m \u001b[0mParameter\u001b[0m\u001b[0;34m(\u001b[0m\u001b[0mtorch\u001b[0m\u001b[0;34m.\u001b[0m\u001b[0mempty\u001b[0m\u001b[0;34m(\u001b[0m\u001b[0mout_features\u001b[0m\u001b[0;34m,\u001b[0m \u001b[0;34m**\u001b[0m\u001b[0mfactory_kwargs\u001b[0m\u001b[0;34m)\u001b[0m\u001b[0;34m)\u001b[0m\u001b[0;34m\u001b[0m\u001b[0;34m\u001b[0m\u001b[0m\n",
            "\u001b[0;31mRuntimeError\u001b[0m: Trying to create tensor with negative dimension -5998: [-5998, 6000]"
          ]
        }
      ]
    },
    {
      "cell_type": "code",
      "source": [],
      "metadata": {
        "id": "-lgXAjckB--2"
      },
      "execution_count": null,
      "outputs": []
    }
  ]
}